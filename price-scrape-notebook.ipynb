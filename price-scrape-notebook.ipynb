{
 "cells": [
  {
   "cell_type": "code",
   "execution_count": 14,
   "id": "062c64f1",
   "metadata": {},
   "outputs": [],
   "source": [
    "#adding libraries \n",
    "\n",
    "from bs4 import BeautifulSoup\n",
    "import requests\n",
    "import smtplib #send emails\n",
    "import time \n",
    "import datetime"
   ]
  },
  {
   "cell_type": "code",
   "execution_count": 86,
   "id": "36cbf372",
   "metadata": {},
   "outputs": [
    {
     "name": "stdout",
     "output_type": "stream",
     "text": [
      "FYDO - Long-Sleeve Scoop Neck Cropped T-Shirt\n",
      "CA$ 14.89\n"
     ]
    },
    {
     "data": {
      "text/plain": [
       "str"
      ]
     },
     "execution_count": 86,
     "metadata": {},
     "output_type": "execute_result"
    }
   ],
   "source": [
    "# Grabbing Title and Price from Website\n",
    "URL = 'https://www.yesstyle.com/en/fydo-long-sleeve-scoop-neck-cropped-t-shirt/info.html/pid.1114815235'\n",
    "\n",
    "headers = {\n",
    "    \"User-Agent\": \"Mozilla/5.0 (Windows NT 10.0; Win64; x64) AppleWebKit/537.36 (KHTML, like Gecko) Chrome/114.0.0.0 Safari/537.36\", \n",
    "    } \n",
    "page = requests.get(URL, headers=headers)\n",
    "\n",
    "soup1 = BeautifulSoup(page.content, \"html.parser\")\n",
    "soup2 = BeautifulSoup(soup1.prettify(), \"html.parser\")\n",
    "title = soup2.find(\"h1\").text.replace(\"\\n\",\"\")\n",
    "title1 = title.replace(\"                  \", \" \").strip()\n",
    "\n",
    "price = soup2.find(\"span\", {\"class\": \"productDetailPage_sellingPrice__H4pxM\"}).text.strip()[0:]\n",
    "\n",
    "print(title1)\n",
    "print(price)"
   ]
  },
  {
   "cell_type": "code",
   "execution_count": null,
   "id": "be5b98c5",
   "metadata": {},
   "outputs": [],
   "source": [
    "import csv \n",
    "header =['Title', 'Price']\n",
    "data = [title, price]\n",
    "\n",
    "with open('yes_top_tracker.csv', 'w', newline='', encoding='UTF8') as f:"
   ]
  }
 ],
 "metadata": {
  "kernelspec": {
   "display_name": "Python 3 (ipykernel)",
   "language": "python",
   "name": "python3"
  },
  "language_info": {
   "codemirror_mode": {
    "name": "ipython",
    "version": 3
   },
   "file_extension": ".py",
   "mimetype": "text/x-python",
   "name": "python",
   "nbconvert_exporter": "python",
   "pygments_lexer": "ipython3",
   "version": "3.10.9"
  }
 },
 "nbformat": 4,
 "nbformat_minor": 5
}
