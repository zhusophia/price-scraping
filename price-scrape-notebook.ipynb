{
 "cells": [
  {
   "cell_type": "code",
   "execution_count": 14,
   "id": "062c64f1",
   "metadata": {},
   "outputs": [],
   "source": [
    "#adding libraries \n",
    "\n",
    "from bs4 import BeautifulSoup\n",
    "import requests\n",
    "import smtplib #send emails\n",
    "import time \n",
    "import datetime"
   ]
  },
  {
   "cell_type": "code",
   "execution_count": 96,
   "id": "36cbf372",
   "metadata": {
    "scrolled": true
   },
   "outputs": [
    {
     "name": "stdout",
     "output_type": "stream",
     "text": [
      "FYDO - Long-Sleeve Scoop Neck Cropped T-Shirt\n",
      "14.89\n"
     ]
    },
    {
     "data": {
      "text/plain": [
       "str"
      ]
     },
     "execution_count": 96,
     "metadata": {},
     "output_type": "execute_result"
    }
   ],
   "source": [
    "# Grabbing Title and Price from Website\n",
    "URL = 'https://www.yesstyle.com/en/fydo-long-sleeve-scoop-neck-cropped-t-shirt/info.html/pid.1114815235'\n",
    "\n",
    "headers = {\n",
    "    \"User-Agent\": \"Mozilla/5.0 (Windows NT 10.0; Win64; x64) AppleWebKit/537.36 (KHTML, like Gecko) Chrome/114.0.0.0 Safari/537.36\", \n",
    "    } \n",
    "page = requests.get(URL, headers=headers)\n",
    "\n",
    "soup1 = BeautifulSoup(page.content, \"html.parser\")\n",
    "soup2 = BeautifulSoup(soup1.prettify(), \"html.parser\")\n",
    "title = soup2.find(\"h1\").text.replace(\"\\n\",\"\")\n",
    "title1 = title.replace(\"                  \", \" \").strip()\n",
    "\n",
    "price = soup2.find(\"span\", {\"class\": \"productDetailPage_sellingPrice__H4pxM\"}).text.strip()[4:]\n",
    "\n",
    "today = datetime.date.today()\n",
    "\n",
    "print(title1)\n",
    "print(price)\n",
    "print(today)\n"
   ]
  },
  {
   "cell_type": "code",
   "execution_count": 101,
   "id": "25e76b59",
   "metadata": {},
   "outputs": [],
   "source": [
    "#Making a CSV to track\n",
    "import csv \n",
    "header =['Date', 'Item', 'Price',]\n",
    "data = [today, title1, price]\n",
    "\n",
    "#with open('yes_top_tracker.csv', 'w', newline='', encoding='UTF8') as f:\n",
    " #   writer = csv.writer(f)\n",
    " #   writer.writerow(header)\n",
    " #   writer.writerow(data)"
   ]
  },
  {
   "cell_type": "code",
   "execution_count": 107,
   "id": "7a91d672",
   "metadata": {},
   "outputs": [
    {
     "name": "stdout",
     "output_type": "stream",
     "text": [
      "         Date                                           Item  Price\n",
      "0  2023-07-05  FYDO - Long-Sleeve Scoop Neck Cropped T-Shirt  14.89\n",
      "1  2023-07-05  FYDO - Long-Sleeve Scoop Neck Cropped T-Shirt  14.89\n",
      "2  2023-07-05  FYDO - Long-Sleeve Scoop Neck Cropped T-Shirt  14.89\n"
     ]
    }
   ],
   "source": [
    "#Table visualization \n",
    "import pandas as pd \n",
    "\n",
    "data = pd.read_csv(r\"C:\\Users\\sophi\\projects\\price-scraping\\yes_top_tracker.csv\")\n",
    "print(data)"
   ]
  },
  {
   "cell_type": "code",
   "execution_count": null,
   "id": "51ec15ca",
   "metadata": {},
   "outputs": [],
   "source": [
    "#Appending Data to CSV\n",
    "with open('yes_top_tracker.csv', 'a+', newline='', encoding='UTF8') as f:\n",
    "    writer = csv.writer(f)\n",
    "    writer.writerow(data)"
   ]
  },
  {
   "cell_type": "code",
   "execution_count": 104,
   "id": "f64f7726",
   "metadata": {},
   "outputs": [],
   "source": [
    "#updating table daily\n",
    "\n",
    "def check_prices(): \n",
    "    URL = 'https://www.yesstyle.com/en/fydo-long-sleeve-scoop-neck-cropped-t-shirt/info.html/pid.1114815235'\n",
    "\n",
    "    headers = {\n",
    "        \"User-Agent\": \"Mozilla/5.0 (Windows NT 10.0; Win64; x64) AppleWebKit/537.36 (KHTML, like Gecko) Chrome/114.0.0.0 Safari/537.36\", \n",
    "        } \n",
    "    page = requests.get(URL, headers=headers)\n",
    "    soup1 = BeautifulSoup(page.content, \"html.parser\")\n",
    "    soup2 = BeautifulSoup(soup1.prettify(), \"html.parser\")\n",
    "    \n",
    "    title = soup2.find(\"h1\").text.replace(\"\\n\",\"\")\n",
    "    title1 = title.replace(\"                  \", \" \").strip()\n",
    "    price = soup2.find(\"span\", {\"class\": \"productDetailPage_sellingPrice__H4pxM\"}).text.strip()[4:]\n",
    "    today = datetime.date.today()\n",
    "    \n",
    "    import csv \n",
    "    header =['Date', 'Item', 'Price',]\n",
    "    data = [today, title1, price]\n",
    "    \n",
    "    with open('yes_top_tracker.csv', 'a+', newline='', encoding='UTF8') as f:\n",
    "        writer = csv.writer(f)\n",
    "        writer.writerow(data)\n",
    "        \n",
    "        if(price < 2): \n",
    "            send mail()\n",
    "\n",
    "    "
   ]
  },
  {
   "cell_type": "code",
   "execution_count": 106,
   "id": "6cb9cdbd",
   "metadata": {
    "scrolled": true
   },
   "outputs": [
    {
     "ename": "KeyboardInterrupt",
     "evalue": "",
     "output_type": "error",
     "traceback": [
      "\u001b[1;31m---------------------------------------------------------------------------\u001b[0m",
      "\u001b[1;31mKeyboardInterrupt\u001b[0m                         Traceback (most recent call last)",
      "Cell \u001b[1;32mIn[106], line 3\u001b[0m\n\u001b[0;32m      1\u001b[0m \u001b[38;5;28;01mwhile\u001b[39;00m(\u001b[38;5;28;01mTrue\u001b[39;00m): \n\u001b[0;32m      2\u001b[0m     check_prices()\n\u001b[1;32m----> 3\u001b[0m     \u001b[43mtime\u001b[49m\u001b[38;5;241;43m.\u001b[39;49m\u001b[43msleep\u001b[49m\u001b[43m(\u001b[49m\u001b[38;5;241;43m5\u001b[39;49m\u001b[43m)\u001b[49m\n",
      "\u001b[1;31mKeyboardInterrupt\u001b[0m: "
     ]
    }
   ],
   "source": [
    "while(True): \n",
    "    check_prices()\n",
    "    time.sleep(86400)"
   ]
  },
  {
   "cell_type": "code",
   "execution_count": null,
   "id": "91849429",
   "metadata": {},
   "outputs": [],
   "source": [
    "def send_mail():\n",
    "    server = smtplib.SMTP_SSL('smtp.gmail.com',465)\n",
    "    server.ehlo()\n",
    "    #server.starttls()\n",
    "    server.ehlo()\n",
    "    server.login('iceye123@gmail.com','xxxxxxxxxxxxxx')\n",
    "    \n",
    "    subject = \"THIS IS REVOLUTIONARY\"\n",
    "    body = \"This shirt is finally on SALE! It will be so worth it, trust. https://www.yesstyle.com/en/fydo-long-sleeve-scoop-neck-cropped-t-shirt/info.html/pid.1114815235\"\n",
    "   \n",
    "    msg = f\"Subject: {subject}\\n\\n{body}\"\n",
    "    \n",
    "    server.sendmail(\n",
    "        'iceye123@gmail.com',\n",
    "        msg\n",
    "     \n",
    "    )"
   ]
  }
 ],
 "metadata": {
  "kernelspec": {
   "display_name": "Python 3 (ipykernel)",
   "language": "python",
   "name": "python3"
  },
  "language_info": {
   "codemirror_mode": {
    "name": "ipython",
    "version": 3
   },
   "file_extension": ".py",
   "mimetype": "text/x-python",
   "name": "python",
   "nbconvert_exporter": "python",
   "pygments_lexer": "ipython3",
   "version": "3.10.9"
  }
 },
 "nbformat": 4,
 "nbformat_minor": 5
}
